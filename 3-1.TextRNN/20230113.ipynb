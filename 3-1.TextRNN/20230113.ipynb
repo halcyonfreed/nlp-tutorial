{
 "cells": [
  {
   "cell_type": "code",
   "execution_count": null,
   "metadata": {},
   "outputs": [],
   "source": [
    "import torch\n",
    "import torch.nn as nn\n",
    "from tqdm.auto import tqdm\n",
    "from torch.utils.tensorboard import SummaryWriter\n",
    "from torch.utils.data import TensorDataset,DataLoader\n",
    "import numpy as np\n",
    "dtype=torch.FloatTensor\n",
    "device='cuda' if torch.cuda.is_available() else 'cpu'"
   ]
  },
  {
   "cell_type": "code",
   "execution_count": null,
   "metadata": {},
   "outputs": [],
   "source": [
    "sentences = [\"i like dog\", \"i love coffee\", \"i hate milk\"]\n",
    "sentences_list=\" \".join(sentences).split()\n",
    "vocab=list(set(sentences_list))\n",
    "word2idx={w:i for i,w in enumerate(vocab)}\n",
    "idx2word={i:w for i,w in enumerate(vocab)}\n",
    "n_vocab=len(vocab)\n",
    "\n",
    "def make_data(sentences):\n",
    "    x,y=[],[]\n",
    "    for sen in sentences:\n",
    "        word=sen.split()\n",
    "        idx=[word2idx[w] for w in word]\n",
    "        x_tmp=idx[:-1]\n",
    "        y_tmp=idx[-1]\n",
    "        x.append(np.eye(n_vocab)[x_tmp])\n",
    "        y.append(y_tmp)\n",
    "    return x,y\n",
    "x,y=make_data(sentences)\n",
    "x,y=torch.Tensor(x),torch.LongTensor(y)\n",
    "# print(x,y)\n",
    "dataset=TensorDataset(x,y)\n",
    "loader=DataLoader(dataset,batch_size=2,shuffle=True)\n"
   ]
  },
  {
   "cell_type": "code",
   "execution_count": null,
   "metadata": {},
   "outputs": [],
   "source": [
    "hidden_size=10\n",
    "n_step=2\n",
    "class TextRNN(nn.Module):\n",
    "    def __init__(self):\n",
    "        super(TextRNN,self).__init__()\n",
    "        self.rnn=nn.RNN(input_size=n_vocab,hidden_size=hidden_size,num_layers=2)\n",
    "        self.fc=nn.Linear(hidden_size,n_vocab)\n",
    "    def forward(self,hidden,x):#!!\n",
    "        x=x.transpose(0,1)\n",
    "        out,hidden=self.rnn(x,hidden) #!!\n",
    "        out=out[-1]\n",
    "        model=self.fc(out)\n",
    "        return model"
   ]
  },
  {
   "cell_type": "code",
   "execution_count": null,
   "metadata": {},
   "outputs": [],
   "source": [
    "model=TextRNN().to(device)\n",
    "criterion=nn.CrossEntropyLoss()\n",
    "optimizer=torch.optim.AdamW(model.parameters(),lr=1e-3)\n",
    "\n",
    "writer=SummaryWriter()\n",
    "step=0\n",
    "\n",
    "for epoch in range(100):\n",
    "    loss_record=[]\n",
    "\n",
    "    for x,y in tqdm(loader):\n",
    "        x,y=x.to(device),y.to(device)\n",
    "        h0=torch.zeros(2,x.shape[0],hidden_size) #这个也可以放在textrnn的forward(self,x)里\n",
    "        pred=model(h0,x)\n",
    "        loss=criterion(pred,y)\n",
    "\n",
    "        optimizer.zero_grad()\n",
    "        loss.backward()\n",
    "        optimizer.step()\n",
    "\n",
    "        step+=1\n",
    "        loss_record.append(loss)\n",
    "    mean_train_loss=sum(loss_record)/len(loss_record)\n",
    "    writer.add_scalar('trainloss',mean_train_loss,step)\n"
   ]
  },
  {
   "cell_type": "code",
   "execution_count": null,
   "metadata": {},
   "outputs": [],
   "source": [
    "x,y=make_data(sentences)\n",
    "x,y=torch.Tensor(x),torch.LongTensor(y)\n",
    "\n",
    "h0=torch.zeros(2,len(x),hidden_size) # num_layers*num_directions,input_size=feature_len,hidden_size\n",
    "# print(x)\n",
    "print(model(h0,x).data)\n",
    "predict=model(h0,x).data.max(1,keepdim=True)[1].squeeze()\n",
    "print([n.item() for n in predict])\n",
    "print([sen.split()[:2] for sen in sentences], '->',[idx2word[n.item()] for n in predict])\n",
    "\n"
   ]
  },
  {
   "cell_type": "code",
   "execution_count": null,
   "metadata": {},
   "outputs": [],
   "source": []
  }
 ],
 "metadata": {
  "kernelspec": {
   "display_name": "Python 3.9.11 ('week6')",
   "language": "python",
   "name": "python3"
  },
  "language_info": {
   "codemirror_mode": {
    "name": "ipython",
    "version": 3
   },
   "file_extension": ".py",
   "mimetype": "text/x-python",
   "name": "python",
   "nbconvert_exporter": "python",
   "pygments_lexer": "ipython3",
   "version": "3.9.11"
  },
  "orig_nbformat": 4,
  "vscode": {
   "interpreter": {
    "hash": "dc22443302a7e1520fd496d19808d411f95cd97f052bed8809baa60e4c089c3b"
   }
  }
 },
 "nbformat": 4,
 "nbformat_minor": 2
}
