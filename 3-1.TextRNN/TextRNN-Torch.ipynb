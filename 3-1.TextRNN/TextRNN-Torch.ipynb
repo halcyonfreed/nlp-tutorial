{
  "cells": [
    {
      "cell_type": "code",
      "execution_count": null,
      "metadata": {
        "colab": {},
        "colab_type": "code",
        "id": "CWaBEkKSbLAg"
      },
      "outputs": [],
      "source": [
        "'''\n",
        "  code by Tae Hwan Jung(Jeff Jung) @graykode, modify by wmathor\n",
        "'''\n",
        "import torch\n",
        "import numpy as np\n",
        "import torch.nn as nn\n",
        "import torch.optim as optim\n",
        "import torch.utils.data as Data\n",
        "\n",
        "dtype = torch.FloatTensor"
      ]
    },
    {
      "cell_type": "code",
      "execution_count": null,
      "metadata": {
        "colab": {},
        "colab_type": "code",
        "id": "4n7bPYtCcIWU"
      },
      "outputs": [],
      "source": [
        "sentences = [\"i like dog\", \"i love coffee\", \"i hate milk\"]\n",
        "\n",
        "word_list = \" \".join(sentences).split()\n",
        "vocab = list(set(word_list))\n",
        "word2idx = {w: i for i, w in enumerate(vocab)}\n",
        "idx2word = {i: w for i, w in enumerate(vocab)}\n",
        "n_class = len(vocab)\n",
        "\n",
        "# TextRNN Parameter\n",
        "batch_size = 2\n",
        "n_step = 2 # number of cells(= number of Step)\n",
        "n_hidden = 5 # number of hidden units in one cell\n",
        "\n",
        "def make_data(sentences):\n",
        "    input_batch = []\n",
        "    target_batch = []\n",
        "\n",
        "    for sen in sentences:\n",
        "        word = sen.split()\n",
        "        input = [word2idx[n] for n in word[:-1]]\n",
        "        target = word2idx[word[-1]]\n",
        "\n",
        "        input_batch.append(np.eye(n_class)[input])\n",
        "        target_batch.append(target)\n",
        "\n",
        "    return input_batch, target_batch\n",
        "\n",
        "input_batch, target_batch = make_data(sentences)\n",
        "input_batch, target_batch = torch.Tensor(input_batch), torch.LongTensor(target_batch)\n",
        "dataset = Data.TensorDataset(input_batch, target_batch)\n",
        "loader = Data.DataLoader(dataset, batch_size, True)"
      ]
    },
    {
      "cell_type": "code",
      "execution_count": null,
      "metadata": {
        "colab": {
          "base_uri": "https://localhost:8080/",
          "height": 34
        },
        "colab_type": "code",
        "id": "Cz38D1eC8jER",
        "outputId": "dc97488e-f4ae-40bd-9795-95676d6de3aa"
      },
      "outputs": [
        {
          "name": "stdout",
          "output_type": "stream",
          "text": [
            "torch.Size([3, 2, 7])\n"
          ]
        }
      ],
      "source": [
        "# print(input_batch)\n",
        "# print(input_batch.shape)\n",
        "# print(np.eye(7)[[1, 2, 5]])"
      ]
    },
    {
      "cell_type": "code",
      "execution_count": null,
      "metadata": {
        "colab": {},
        "colab_type": "code",
        "id": "SnPg909Gc-OC"
      },
      "outputs": [],
      "source": [
        "class TextRNN(nn.Module):\n",
        "    def __init__(self):\n",
        "        super(TextRNN, self).__init__()\n",
        "        self.rnn = nn.RNN(input_size=n_class, hidden_size=n_hidden)\n",
        "        # input_size 指的是每个单词用多少维的向量去编码\n",
        "        # hidden_size 指的是输出维度是多少\n",
        "        # fully connected layer\n",
        "        self.fc = nn.Linear(n_hidden, n_class)\n",
        "\n",
        "    def forward(self, hidden, X): #这里不一样！！！hidden,x\n",
        "        # X: [batch_size, n_step, n_class]\n",
        "        X = X.transpose(0, 1) # X : [n_step, batch_size, n_class]是pytorch规定的Rnn的输入内容\n",
        "        out, hidden = self.rnn(X, hidden)\n",
        "        # out : [n_step, batch_size, num_directions(=1) * n_hidden]\n",
        "        # hidden : [num_layers(=1) * num_directions(=1), batch_size, n_hidden]\n",
        "        out = out[-1] # [batch_size, num_directions(=1) * n_hidden] ⭐ 只取最后一个\n",
        "        model = self.fc(out)\n",
        "        return model\n",
        "\n",
        "model = TextRNN()\n",
        "criterion = nn.CrossEntropyLoss()\n",
        "optimizer = optim.Adam(model.parameters(), lr=0.001)"
      ]
    },
    {
      "cell_type": "code",
      "execution_count": null,
      "metadata": {
        "colab": {
          "base_uri": "https://localhost:8080/",
          "height": 185
        },
        "colab_type": "code",
        "id": "32Fac6LDZJmE",
        "outputId": "43d5f1d9-ef96-47fd-9616-a0fce675c643"
      },
      "outputs": [
        {
          "name": "stdout",
          "output_type": "stream",
          "text": [
            "Epoch: 1000 cost = 0.045840\n",
            "Epoch: 1000 cost = 0.059695\n",
            "Epoch: 2000 cost = 0.009017\n",
            "Epoch: 2000 cost = 0.009856\n",
            "Epoch: 3000 cost = 0.003041\n",
            "Epoch: 3000 cost = 0.002324\n",
            "Epoch: 4000 cost = 0.001052\n",
            "Epoch: 4000 cost = 0.000802\n",
            "Epoch: 5000 cost = 0.000340\n",
            "Epoch: 5000 cost = 0.000372\n"
          ]
        }
      ],
      "source": [
        "# Training\n",
        "for epoch in range(5000):\n",
        "    for x, y in loader:\n",
        "      # hidden : [num_layers * num_directions, batch, hidden_size]\n",
        "      hidden = torch.zeros(1, x.shape[0], n_hidden) # h0\n",
        "      # x : [batch_size, n_step, n_class]\n",
        "      pred = model(hidden, x) #所以rnn(h0,x)\n",
        "\n",
        "      # pred : [batch_size, n_class], y : [batch_size] (LongTensor, not one-hot)\n",
        "      loss = criterion(pred, y)\n",
        "      if (epoch + 1) % 1000 == 0:\n",
        "          print('Epoch:', '%04d' % (epoch + 1), 'cost =', '{:.6f}'.format(loss))\n",
        "\n",
        "      optimizer.zero_grad()\n",
        "      loss.backward()\n",
        "      optimizer.step()"
      ]
    },
    {
      "cell_type": "code",
      "execution_count": null,
      "metadata": {
        "colab": {
          "base_uri": "https://localhost:8080/",
          "height": 34
        },
        "colab_type": "code",
        "id": "V2qpik7_cEre",
        "outputId": "acb92763-f7d5-4a7d-bec2-89a76cb3269d"
      },
      "outputs": [
        {
          "name": "stdout",
          "output_type": "stream",
          "text": [
            "[['i', 'like'], ['i', 'love'], ['i', 'hate']] -> ['dog', 'coffee', 'milk']\n"
          ]
        }
      ],
      "source": [
        "input = [sen.split()[:2] for sen in sentences] #取每句前两个 如果[:-1]取每句从头到倒数第一个不含倒数\n",
        "# Predict\n",
        "hidden = torch.zeros(1, len(input), n_hidden)\n",
        "predict = model(hidden, input_batch).data.max(1, keepdim=True)[1] #取dim=1这一维度上就是最里层行的最大值，最外层就是dim=0就是列\n",
        "print([sen.split()[:2] for sen in sentences], '->', [idx2word[n.item()] for n in predict.squeeze()])"
      ]
    },
    {
      "cell_type": "code",
      "execution_count": null,
      "metadata": {
        "colab": {},
        "colab_type": "code",
        "id": "LL520CdCRK9h"
      },
      "outputs": [],
      "source": []
    }
  ],
  "metadata": {
    "accelerator": "GPU",
    "colab": {
      "collapsed_sections": [],
      "name": "“TextRNN-Torch.ipynb”的副本",
      "provenance": []
    },
    "kernelspec": {
      "display_name": "Python 3.9.11 ('week6')",
      "language": "python",
      "name": "python3"
    },
    "language_info": {
      "name": "python",
      "version": "3.9.11"
    },
    "vscode": {
      "interpreter": {
        "hash": "dc22443302a7e1520fd496d19808d411f95cd97f052bed8809baa60e4c089c3b"
      }
    }
  },
  "nbformat": 4,
  "nbformat_minor": 0
}
