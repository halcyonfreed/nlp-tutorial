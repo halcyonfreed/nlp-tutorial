{
 "cells": [
  {
   "cell_type": "code",
   "execution_count": 3,
   "metadata": {},
   "outputs": [],
   "source": [
    "import torch\n",
    "from torch.utils.data import DataLoader,Dataset\n",
    "import torch.nn as nn\n",
    "dtype=torch.FloatTensor #32位"
   ]
  },
  {
   "cell_type": "markdown",
   "metadata": {},
   "source": [
    "句子拆成单词"
   ]
  },
  {
   "cell_type": "code",
   "execution_count": 19,
   "metadata": {},
   "outputs": [
    {
     "name": "stdout",
     "output_type": "stream",
     "text": [
      "['i', 'like', 'cat', 'i', 'love', 'coffee', 'i', 'hate', 'milk']\n"
     ]
    }
   ],
   "source": [
    "sentences=['i like cat', 'i love coffee', 'i hate milk']\n",
    "# sentences=[i.split() for i in sentences] #.split只能对str用\n",
    "# sentences=''.join('ab c').split()\n",
    "# sentences=''.join(sentences) #句子之间就没加空格，有空格不会再加空格\n",
    "# sentences.split()\n",
    "sentences=' '.join(sentences).split() #.join .split是str操作 默认通过空格分开单词\n",
    "print(sentences)"
   ]
  },
  {
   "cell_type": "markdown",
   "metadata": {},
   "source": [
    "建词向量的索引表 用字典 集合 list"
   ]
  },
  {
   "cell_type": "code",
   "execution_count": null,
   "metadata": {},
   "outputs": [],
   "source": [
    "vocab=list(set(sentences)) #去重用set 因为集合无重复元素\n",
    "word2idx=\n",
    "idx2word"
   ]
  }
 ],
 "metadata": {
  "kernelspec": {
   "display_name": "Python 3.9.11 ('week6')",
   "language": "python",
   "name": "python3"
  },
  "language_info": {
   "codemirror_mode": {
    "name": "ipython",
    "version": 3
   },
   "file_extension": ".py",
   "mimetype": "text/x-python",
   "name": "python",
   "nbconvert_exporter": "python",
   "pygments_lexer": "ipython3",
   "version": "3.9.11"
  },
  "orig_nbformat": 4,
  "vscode": {
   "interpreter": {
    "hash": "dc22443302a7e1520fd496d19808d411f95cd97f052bed8809baa60e4c089c3b"
   }
  }
 },
 "nbformat": 4,
 "nbformat_minor": 2
}
