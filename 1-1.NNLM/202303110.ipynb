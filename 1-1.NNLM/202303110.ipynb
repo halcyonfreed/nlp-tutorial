{
 "cells": [
  {
   "cell_type": "code",
   "execution_count": 1,
   "metadata": {},
   "outputs": [],
   "source": [
    "import torch\n",
    "import torch.nn as nn\n",
    "from torch.utils.data import Dataset,TensorDataset,DataLoader\n",
    "dtype=torch.FloatTensor"
   ]
  },
  {
   "cell_type": "code",
   "execution_count": 2,
   "metadata": {},
   "outputs": [],
   "source": [
    "sentences=['i like cat','i love coffee','i hate milk']\n",
    "sentences_list=\" \".join(sentences).split()\n",
    "vocab=list(set(sentences_list))\n",
    "word2idx={w:i for i,w in enumerate(vocab)}\n",
    "idx2word={i:w for i,w in enumerate(vocab)}\n",
    "V=len(vocab)"
   ]
  },
  {
   "cell_type": "code",
   "execution_count": 4,
   "metadata": {},
   "outputs": [],
   "source": [
    "def make_data(sentences):\n",
    "    X=[]\n",
    "    y=[]\n",
    "    for sen in sentences:\n",
    "        sen=sen.split()\n",
    "        X_tmp=[word2idx[w] for w in sen[:-1]]\n",
    "        y_tmp=word2idx[sen[-1]]\n",
    "\n",
    "        X.append(X_tmp)\n",
    "        y.append(y_tmp)\n",
    "    return X,y"
   ]
  },
  {
   "cell_type": "code",
   "execution_count": 5,
   "metadata": {},
   "outputs": [],
   "source": [
    "X,y=make_data(sentences)\n",
    "X,y=torch.LongTensor(X),torch.LongTensor(y)\n",
    "dataset=TensorDataset(X,y)\n",
    "dataloader=DataLoader(dataset,2,True)\n",
    "m=2\n",
    "n_step=2\n",
    "n_hidden=10"
   ]
  },
  {
   "cell_type": "code",
   "execution_count": 20,
   "metadata": {},
   "outputs": [],
   "source": [
    "class NNLM(nn.Module):\n",
    "    def __init__(self):\n",
    "        super(NNLM,self).__init__()\n",
    "        self.C=nn.Embedding(V,m)\n",
    "        self.H=nn.Parameter(torch.randn(n_step*m,n_hidden).type(dtype))\n",
    "        self.d=nn.Parameter(torch.randn(n_hidden).type(dtype))\n",
    "        \n",
    "        self.U=nn.Parameter(torch.randn(n_hidden,V).type(dtype))\n",
    "        self.b=nn.Parameter(torch.randn(V).type(dtype))\n",
    "        self.W=nn.Parameter(torch.randn(n_step*m,V).type(dtype))\n",
    "    def forward(self,X):\n",
    "        X=self.C(X)\n",
    "        X=X.view(-1,n_step*m)\n",
    "        hidden_out=torch.tanh(self.d+torch.mm(X,self.H))\n",
    "        y=self.b+torch.mm(X,self.W)+torch.mm(hidden_out,self.U)\n",
    "        return y\n",
    "model=NNLM()\n",
    "optim=torch.optim.Adam(model.parameters(),lr=1e-3)\n",
    "criterion=nn.CrossEntropyLoss()"
   ]
  },
  {
   "cell_type": "code",
   "execution_count": 22,
   "metadata": {},
   "outputs": [
    {
     "name": "stdout",
     "output_type": "stream",
     "text": [
      "100 0.4558974802494049\n",
      "100 2.7638697624206543\n",
      "200 0.37769126892089844\n",
      "200 0.17931468784809113\n",
      "300 0.07017400860786438\n",
      "300 0.1931810975074768\n",
      "400 0.06138978898525238\n",
      "400 0.05610883608460426\n",
      "500 0.030168922618031502\n",
      "500 0.054158832877874374\n"
     ]
    }
   ],
   "source": [
    "for epoch in range(500):\n",
    "    for batch_x,batch_y in dataloader:\n",
    "        pred=model(batch_x)\n",
    "        loss=criterion(pred,batch_y)\n",
    "\n",
    "        if (epoch+1) %100 ==0:\n",
    "            print(epoch+1,loss.item())\n",
    "        optim.zero_grad()\n",
    "        loss.backward()\n",
    "        optim.step()"
   ]
  },
  {
   "cell_type": "code",
   "execution_count": 40,
   "metadata": {},
   "outputs": [
    {
     "name": "stdout",
     "output_type": "stream",
     "text": [
      "tensor([[4],\n",
      "        [2],\n",
      "        [6]])\n",
      "tensor([4, 2, 6])\n",
      "[4, 2, 6]\n",
      "['cat', 'coffee', 'milk']\n"
     ]
    }
   ],
   "source": [
    "pred=model(X)\n",
    "indices=pred.max(1,keepdim=True)[1]\n",
    "print(indices)\n",
    "print(indices.squeeze())\n",
    "print([index.item() for index in indices.squeeze()])\n",
    "print([idx2word[index.item()] for index in indices.squeeze()])"
   ]
  },
  {
   "cell_type": "code",
   "execution_count": 43,
   "metadata": {},
   "outputs": [
    {
     "data": {
      "text/plain": [
       "tensor([4, 2, 6])"
      ]
     },
     "execution_count": 43,
     "metadata": {},
     "output_type": "execute_result"
    }
   ],
   "source": [
    "pred=model(X).max(1)[1]\n",
    "pred"
   ]
  },
  {
   "cell_type": "code",
   "execution_count": null,
   "metadata": {},
   "outputs": [],
   "source": []
  }
 ],
 "metadata": {
  "kernelspec": {
   "display_name": "Python 3.9.11 ('week6')",
   "language": "python",
   "name": "python3"
  },
  "language_info": {
   "codemirror_mode": {
    "name": "ipython",
    "version": 3
   },
   "file_extension": ".py",
   "mimetype": "text/x-python",
   "name": "python",
   "nbconvert_exporter": "python",
   "pygments_lexer": "ipython3",
   "version": "3.9.11"
  },
  "orig_nbformat": 4,
  "vscode": {
   "interpreter": {
    "hash": "dc22443302a7e1520fd496d19808d411f95cd97f052bed8809baa60e4c089c3b"
   }
  }
 },
 "nbformat": 4,
 "nbformat_minor": 2
}
