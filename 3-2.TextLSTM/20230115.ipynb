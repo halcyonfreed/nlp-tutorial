{
 "cells": [
  {
   "cell_type": "code",
   "execution_count": 2,
   "metadata": {},
   "outputs": [],
   "source": [
    "import torch\n",
    "import numpy as np\n",
    "import torch.nn as nn\n",
    "from tqdm import tqdm\n",
    "from torch.utils.data import TensorDataset,DataLoader\n",
    "from torch.utils.tensorboard import SummaryWriter\n",
    "dtype=torch.FloatTensor"
   ]
  },
  {
   "cell_type": "code",
   "execution_count": 17,
   "metadata": {},
   "outputs": [],
   "source": [
    "char_arr = [c for c in 'abcdefghijklmnopqrstuvwxyz']\n",
    "word2idx={w:i for i,w, in enumerate(char_arr)}\n",
    "idx2word={i:w for i,w in enumerate(char_arr)}\n",
    "n_class=len(word2idx)\n",
    "seq_data=['make', 'need', 'coal', 'word', 'love', 'hate', 'live', 'home', 'hash', 'star']\n",
    "\n",
    "n_step=len(seq_data[0])-1\n",
    "n_hidden=128\n",
    "\n",
    "def make_data(seq_data):\n",
    "    x,y=[],[]\n",
    "    for seq in seq_data:\n",
    "        x_tmp=[word2idx[n] for n in seq[:-1]]\n",
    "        y_tmp=word2idx[seq[-1]]\n",
    "        x.append(np.eye(n_class)[x_tmp])\n",
    "        y.append(y_tmp)\n",
    "    return torch.Tensor(x),torch.LongTensor(y)\n",
    "x,y=make_data(seq_data)\n",
    "dataset=TensorDataset(x,y)\n",
    "loader=DataLoader(dataset,3,True)\n"
   ]
  },
  {
   "cell_type": "code",
   "execution_count": 15,
   "metadata": {},
   "outputs": [],
   "source": [
    "class TextLSTM(nn.Module):\n",
    "    def __init__(self):\n",
    "        super(TextLSTM,self).__init__()\n",
    "        self.lstm=nn.LSTM(input_size=n_class,hidden_size=n_hidden)\n",
    "        self.fc=nn.Linear(n_hidden,n_class)\n",
    "    def forward(self,x):\n",
    "        batch_size=x.shape[0]\n",
    "        input=x.transpose(0,1)\n",
    "\n",
    "        h0=torch.zeros(1,batch_size,n_hidden)\n",
    "        c0=torch.zeros(1,batch_size,n_hidden)\n",
    "\n",
    "        outputs,(_,_)=self.lstm(input,(h0,c0))\n",
    "        outputs=outputs[-1]\n",
    "        y=self.fc(outputs)\n",
    "        return y\n",
    "model=TextLSTM()\n",
    "criterion=nn.CrossEntropyLoss()\n",
    "optimizer=torch.optim.AdamW(model.parameters(),lr=1e-3)"
   ]
  },
  {
   "cell_type": "code",
   "execution_count": 19,
   "metadata": {},
   "outputs": [
    {
     "name": "stderr",
     "output_type": "stream",
     "text": [
      "100%|██████████| 4/4 [00:01<00:00,  2.80it/s]\n",
      "100%|██████████| 4/4 [00:00<00:00, 100.13it/s]\n",
      "100%|██████████| 4/4 [00:00<00:00, 90.95it/s]\n",
      "100%|██████████| 4/4 [00:00<00:00, 91.02it/s]\n",
      "100%|██████████| 4/4 [00:00<00:00, 91.03it/s]\n",
      "100%|██████████| 4/4 [00:00<00:00, 100.11it/s]\n",
      "100%|██████████| 4/4 [00:00<00:00, 100.12it/s]\n",
      "100%|██████████| 4/4 [00:00<00:00, 91.03it/s]\n",
      "100%|██████████| 4/4 [00:00<00:00, 77.03it/s]\n",
      "100%|██████████| 4/4 [00:00<00:00, 58.89it/s]\n",
      "100%|██████████| 4/4 [00:00<00:00, 83.45it/s]\n",
      "100%|██████████| 4/4 [00:00<00:00, 91.02it/s]\n",
      "100%|██████████| 4/4 [00:00<00:00, 100.13it/s]\n",
      "100%|██████████| 4/4 [00:00<00:00, 100.15it/s]\n",
      "100%|██████████| 4/4 [00:00<00:00, 100.13it/s]\n",
      "100%|██████████| 4/4 [00:00<00:00, 83.45it/s]\n",
      "100%|██████████| 4/4 [00:00<00:00, 100.13it/s]\n",
      "100%|██████████| 4/4 [00:00<00:00, 66.60it/s]\n",
      "100%|██████████| 4/4 [00:00<00:00, 71.56it/s]\n",
      "100%|██████████| 4/4 [00:00<00:00, 100.14it/s]\n",
      "100%|██████████| 4/4 [00:00<00:00, 100.10it/s]\n",
      "100%|██████████| 4/4 [00:00<00:00, 100.13it/s]\n",
      "100%|██████████| 4/4 [00:00<00:00, 100.13it/s]\n",
      "100%|██████████| 4/4 [00:00<00:00, 77.03it/s]\n",
      "100%|██████████| 4/4 [00:00<00:00, 100.16it/s]\n",
      "100%|██████████| 4/4 [00:00<00:00, 91.04it/s]\n",
      "100%|██████████| 4/4 [00:00<00:00, 90.97it/s]\n",
      "100%|██████████| 4/4 [00:00<00:00, 71.52it/s]\n",
      "100%|██████████| 4/4 [00:00<00:00, 111.25it/s]\n",
      "100%|██████████| 4/4 [00:00<00:00, 100.12it/s]\n",
      "100%|██████████| 4/4 [00:00<00:00, 91.01it/s]\n",
      "100%|██████████| 4/4 [00:00<00:00, 91.02it/s]\n",
      "100%|██████████| 4/4 [00:00<00:00, 111.24it/s]\n",
      "100%|██████████| 4/4 [00:00<00:00, 111.31it/s]\n",
      "100%|██████████| 4/4 [00:00<00:00, 71.53it/s]\n",
      "100%|██████████| 4/4 [00:00<00:00, 100.11it/s]\n",
      "100%|██████████| 4/4 [00:00<00:00, 91.01it/s]\n",
      "100%|██████████| 4/4 [00:00<00:00, 91.03it/s]\n",
      "100%|██████████| 4/4 [00:00<00:00, 100.19it/s]\n",
      "100%|██████████| 4/4 [00:00<00:00, 111.26it/s]\n",
      "100%|██████████| 4/4 [00:00<00:00, 111.26it/s]\n",
      "100%|██████████| 4/4 [00:00<00:00, 111.27it/s]\n",
      "100%|██████████| 4/4 [00:00<00:00, 111.26it/s]\n",
      "100%|██████████| 4/4 [00:00<00:00, 111.25it/s]\n",
      "100%|██████████| 4/4 [00:00<00:00, 100.14it/s]\n",
      "100%|██████████| 4/4 [00:00<00:00, 111.21it/s]\n",
      "100%|██████████| 4/4 [00:00<00:00, 100.14it/s]\n",
      "100%|██████████| 4/4 [00:00<00:00, 111.34it/s]\n",
      "100%|██████████| 4/4 [00:00<00:00, 91.02it/s]\n",
      "100%|██████████| 4/4 [00:00<00:00, 111.25it/s]\n"
     ]
    }
   ],
   "source": [
    "step=0\n",
    "writer=SummaryWriter()\n",
    "for epoch in range(50):\n",
    "    loss_record=[]\n",
    "    for x,y in tqdm(loader):\n",
    "        pred=model(x)\n",
    "        loss=criterion(pred,y)\n",
    "        loss_record.append(loss)\n",
    "\n",
    "        optimizer.zero_grad()\n",
    "        loss.backward()\n",
    "        optimizer.step()\n",
    "\n",
    "        step+=1\n",
    "    mean_train_loss=sum(loss_record)/len(loss_record)\n",
    "    writer.add_scalar(\"mean_train_loss\",mean_train_loss,step)"
   ]
  },
  {
   "cell_type": "code",
   "execution_count": 23,
   "metadata": {},
   "outputs": [
    {
     "name": "stdout",
     "output_type": "stream",
     "text": [
      "['mak', 'nee', 'coa', 'wor', 'lov', 'hat', 'liv', 'hom', 'has', 'sta'] -> ['e', 'd', 'l', 'd', 'e', 'e', 'e', 'e', 'e', 'r']\n"
     ]
    }
   ],
   "source": [
    "test=[sen[:3] for sen in seq_data]\n",
    "x,y=make_data(seq_data)\n",
    "y_test=model(x).data.max(1)[1]\n",
    "# print(y_test)\n",
    "print(test,'->',[idx2word[n.item()] for n in y_test])"
   ]
  },
  {
   "cell_type": "code",
   "execution_count": null,
   "metadata": {},
   "outputs": [],
   "source": []
  }
 ],
 "metadata": {
  "kernelspec": {
   "display_name": "Python 3.9.11 ('week6')",
   "language": "python",
   "name": "python3"
  },
  "language_info": {
   "codemirror_mode": {
    "name": "ipython",
    "version": 3
   },
   "file_extension": ".py",
   "mimetype": "text/x-python",
   "name": "python",
   "nbconvert_exporter": "python",
   "pygments_lexer": "ipython3",
   "version": "3.9.11"
  },
  "orig_nbformat": 4,
  "vscode": {
   "interpreter": {
    "hash": "dc22443302a7e1520fd496d19808d411f95cd97f052bed8809baa60e4c089c3b"
   }
  }
 },
 "nbformat": 4,
 "nbformat_minor": 2
}
